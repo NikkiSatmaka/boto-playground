{
 "cells": [
  {
   "cell_type": "markdown",
   "metadata": {},
   "source": [
    "# 🛠️ AWS Glue Migration Guide\n",
    "\n",
    "This script **exports and imports** AWS Glue **databases, crawlers, and tables** between AWS regions.\n",
    "\n",
    "## 📌 Features\n",
    "✔ **Exports and imports** AWS Glue **databases, crawlers, and tables**  \n",
    "✔ **Removes invalid parameters** (e.g., `CreatedBy`, `IsRegisteredWithLakeFormation`)  \n",
    "✔ **Works across AWS regions** 🌍  \n",
    "✔ **No AWS CLI required** (uses direct credentials in Boto3)  "
   ]
  },
  {
   "cell_type": "code",
   "execution_count": 12,
   "metadata": {},
   "outputs": [],
   "source": [
    "import boto3\n",
    "import json\n",
    "\n",
    "# AWS Credentials (Replace with your actual credentials)\n",
    "AWS_ACCESS_KEY = \"ACCESS_KEY\"\n",
    "AWS_SECRET_KEY = \"SECRET_KEY\"\n",
    "\n",
    "# AWS Account ID (Optional, for verification/logging)\n",
    "AWS_ACCOUNT_ID = \"AWS_ACCOUNT\"\n",
    "\n",
    "# Source and Target Regions\n",
    "SOURCE_REGION = \"ap-southeast-1\"\n",
    "TARGET_REGION = \"ap-southeast-3\"\n",
    "\n",
    "# AWS Glue Clients for Source and Target Regions\n",
    "glue_source = boto3.client(\n",
    "    \"glue\",\n",
    "    aws_access_key_id=AWS_ACCESS_KEY,\n",
    "    aws_secret_access_key=AWS_SECRET_KEY,\n",
    "    region_name=SOURCE_REGION\n",
    ")\n",
    "\n",
    "glue_target = boto3.client(\n",
    "    \"glue\",\n",
    "    aws_access_key_id=AWS_ACCESS_KEY,\n",
    "    aws_secret_access_key=AWS_SECRET_KEY,\n",
    "    region_name=TARGET_REGION\n",
    ")"
   ]
  },
  {
   "cell_type": "code",
   "execution_count": 13,
   "metadata": {},
   "outputs": [],
   "source": [
    "def migrate_database(database_name):\n",
    "    \"\"\"Export and import Glue database\"\"\"\n",
    "    response = glue_source.get_database(Name=database_name)\n",
    "    db_input = response[\"Database\"]\n",
    "\n",
    "    # Hilangin Attribut ga kepake\n",
    "    db_input.pop(\"CreateTime\", None)\n",
    "    db_input.pop(\"CatalogId\", None)\n",
    "\n",
    "    # Import ke target region\n",
    "    glue_target.create_database(DatabaseInput=db_input)\n",
    "    print(f\"✅ Database '{database_name}' migrated to {TARGET_REGION}.\")"
   ]
  },
  {
   "cell_type": "code",
   "execution_count": 14,
   "metadata": {},
   "outputs": [],
   "source": [
    "def migrate_crawler(crawler_name):\n",
    "    \"\"\"Export and import Glue crawler\"\"\"\n",
    "    response = glue_source.get_crawler(Name=crawler_name)\n",
    "    crawler_input = response[\"Crawler\"]\n",
    "\n",
    "    # Hilangin read only attribut\n",
    "    keys_to_remove = [\n",
    "        \"State\", \"CreationTime\", \"LastUpdated\", \"CrawlElapsedTime\",\n",
    "        \"LastCrawl\", \"Version\", \"Configuration\", \"SchemaChangePolicy\",\n",
    "        \"RecrawlPolicy\", \"LineageConfiguration\"\n",
    "    ]\n",
    "    \n",
    "    for key in keys_to_remove:\n",
    "        crawler_input.pop(key, None)\n",
    "\n",
    "    # Import ke target region\n",
    "    glue_target.create_crawler(**crawler_input)\n",
    "    print(f\"✅ Crawler '{crawler_name}' migrated to {TARGET_REGION}.\")"
   ]
  },
  {
   "cell_type": "code",
   "execution_count": 15,
   "metadata": {},
   "outputs": [],
   "source": [
    "def migrate_tables(database_name):\n",
    "    \"\"\"Export Import Glue Tabel\"\"\"\n",
    "    response = glue_source.get_tables(DatabaseName=database_name)\n",
    "    tables = response[\"TableList\"]\n",
    "\n",
    "    for table in tables:\n",
    "        # Hilangin unused attribut\n",
    "        keys_to_remove = [\n",
    "            \"CreateTime\", \"UpdateTime\", \"CatalogId\", \"VersionId\",\n",
    "            \"DatabaseName\", \"CreatedBy\", \"IsRegisteredWithLakeFormation\",\n",
    "            \"IsMultiDialectView\"\n",
    "        ]\n",
    "        \n",
    "        for key in keys_to_remove:\n",
    "            table.pop(key, None)\n",
    "\n",
    "        # Import ke target region\n",
    "        glue_target.create_table(DatabaseName=database_name, TableInput=table)\n",
    "        print(f\"✅ Table '{table['Name']}' migrated to {TARGET_REGION}.\")"
   ]
  },
  {
   "cell_type": "code",
   "execution_count": 16,
   "metadata": {},
   "outputs": [],
   "source": [
    "DATABASE_NAME = \"air-polution\"\n",
    "CRAWLER_NAME = \"air-polution\""
   ]
  },
  {
   "cell_type": "code",
   "execution_count": 17,
   "metadata": {},
   "outputs": [
    {
     "name": "stdout",
     "output_type": "stream",
     "text": [
      "✅ Database 'air-polution' migrated to ap-southeast-3.\n",
      "✅ Crawler 'air-polution' migrated to ap-southeast-3.\n",
      "✅ Table 'air_filter_data_csv' migrated to ap-southeast-3.\n",
      "\n",
      "🎉 AWS Glue migration completed successfully!\n"
     ]
    }
   ],
   "source": [
    "# Panggil FUngsi-nya\n",
    "migrate_database(DATABASE_NAME)\n",
    "migrate_crawler(CRAWLER_NAME)\n",
    "migrate_tables(DATABASE_NAME)\n",
    "\n",
    "print(\"\\n🎉 AWS Glue migration completed successfully!\")"
   ]
  },
  {
   "cell_type": "markdown",
   "metadata": {},
   "source": [
    "## 🎯 4️⃣ Why This Works\n",
    "\n",
    "✔ **Handles all Glue components** → Database, Crawler, and Tables  \n",
    "✔ **Removes invalid parameters** → Avoids `ParamValidationError`  \n",
    "✔ **Works across AWS regions** → Migrate **Glue** data efficiently 🌎  \n",
    "✔ **Fully automated** → One script to **export and import everything** ⚡  \n",
    "\n",
    "---\n",
    "\n",
    "## 🎉 5️⃣ Final Notes\n",
    "\n",
    "🚀 **Now, run the script and migrate your AWS Glue resources!**  \n",
    "💡 **If you encounter any issues**, check the **AWS Glue Console** or run **AWS CLI commands** to validate.  "
   ]
  }
 ],
 "metadata": {
  "kernelspec": {
   "display_name": "base",
   "language": "python",
   "name": "python3"
  },
  "language_info": {
   "codemirror_mode": {
    "name": "ipython",
    "version": 3
   },
   "file_extension": ".py",
   "mimetype": "text/x-python",
   "name": "python",
   "nbconvert_exporter": "python",
   "pygments_lexer": "ipython3",
   "version": "3.12.4"
  }
 },
 "nbformat": 4,
 "nbformat_minor": 2
}
