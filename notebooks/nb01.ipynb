{
 "cells": [
  {
   "cell_type": "code",
   "execution_count": 1,
   "metadata": {},
   "outputs": [
    {
     "data": {
      "text/plain": [
       "True"
      ]
     },
     "execution_count": 1,
     "metadata": {},
     "output_type": "execute_result"
    }
   ],
   "source": [
    "import os\n",
    "from itertools import chain\n",
    "from operator import itemgetter\n",
    "from pprint import pprint\n",
    "\n",
    "import boto3\n",
    "from dotenv import load_dotenv\n",
    "from IPython.display import display\n",
    "from mypy_boto3_sts.client import GetCallerIdentityResponseTypeDef\n",
    "\n",
    "load_dotenv()"
   ]
  },
  {
   "cell_type": "code",
   "execution_count": 2,
   "metadata": {},
   "outputs": [],
   "source": [
    "sts = boto3.client(\"sts\")\n",
    "AWS_ACCOUNT_ID = sts.get_caller_identity()[\"Account\"]\n",
    "\n",
    "session = boto3.Session()"
   ]
  },
  {
   "cell_type": "markdown",
   "metadata": {},
   "source": [
    "## S3\n"
   ]
  },
  {
   "cell_type": "code",
   "execution_count": 3,
   "metadata": {},
   "outputs": [],
   "source": [
    "SRC_BUCKET = \"bucket-dummy-data1\"\n",
    "DST_BUCKET = \"your-destination-bucket\"\n",
    "SRC_REGION = \"ap-southeast-1\"\n",
    "DST_REGION = \"ap-southeast-3\""
   ]
  },
  {
   "cell_type": "code",
   "execution_count": 4,
   "metadata": {},
   "outputs": [],
   "source": [
    "s3_src = session.client(\"s3\", region_name=SRC_REGION)\n",
    "s3_dst = session.client(\"s3\", region_name=DST_REGION)"
   ]
  },
  {
   "cell_type": "code",
   "execution_count": 5,
   "metadata": {},
   "outputs": [],
   "source": [
    "objects = s3_src.list_objects_v2(Bucket=SRC_BUCKET)\n",
    "if \"Contents\" in objects:\n",
    "    for obj in objects[\"Contents\"]:\n",
    "        if \"Key\" in obj:\n",
    "            copy_source = {\"Bucket\": SRC_BUCKET, \"Key\": obj[\"Key\"]}"
   ]
  },
  {
   "cell_type": "markdown",
   "metadata": {},
   "source": [
    "## Glue\n"
   ]
  },
  {
   "cell_type": "code",
   "execution_count": 6,
   "metadata": {},
   "outputs": [],
   "source": [
    "def get_db_generator(glue_obj):\n",
    "    return map(itemgetter(\"Name\"), glue_obj.get_databases().get(\"DatabaseList\"))\n",
    "\n",
    "\n",
    "def get_table_generator(glue_obj, db_list):\n",
    "    return map(\n",
    "        lambda x: {\n",
    "            x: list(\n",
    "                map(\n",
    "                    itemgetter(\"Name\"), glue_obj.get_tables(DatabaseName=x)[\"TableList\"]\n",
    "                )\n",
    "            )\n",
    "        },\n",
    "        db_list,\n",
    "    )\n"
   ]
  },
  {
   "cell_type": "code",
   "execution_count": 7,
   "metadata": {},
   "outputs": [],
   "source": [
    "glue_src = session.client(\"glue\", region_name=SRC_REGION)\n",
    "glue_dst = session.client(\"glue\", region_name=DST_REGION)"
   ]
  },
  {
   "cell_type": "code",
   "execution_count": 8,
   "metadata": {},
   "outputs": [
    {
     "data": {
      "text/plain": [
       "[]"
      ]
     },
     "metadata": {},
     "output_type": "display_data"
    },
    {
     "data": {
      "text/plain": [
       "['database-dummy',\n",
       " 'database-dummy2',\n",
       " 'database-dummy3',\n",
       " 'databases-jkt',\n",
       " 'databases-sg',\n",
       " 'netflix_db',\n",
       " 'schedule-db-sg',\n",
       " 'test-db',\n",
       " 'transaction']"
      ]
     },
     "metadata": {},
     "output_type": "display_data"
    }
   ],
   "source": [
    "db_src_list = list(get_db_generator(glue_src))\n",
    "db_dst_list = list(get_db_generator(glue_dst))\n",
    "\n",
    "display(db_src_list)\n",
    "display(db_dst_list)\n"
   ]
  },
  {
   "cell_type": "code",
   "execution_count": 9,
   "metadata": {},
   "outputs": [
    {
     "data": {
      "text/plain": [
       "[]"
      ]
     },
     "metadata": {},
     "output_type": "display_data"
    },
    {
     "data": {
      "text/plain": [
       "[{'database-dummy': ['052315ff_78a0_4874_a8fc_17a68dc39411_csv',\n",
       "   '052315ff_78a0_4874_a8fc_17a68dc39411_csv_metadata',\n",
       "   '21',\n",
       "   '713b0fd1_28fa_4fbc_93bb_dbedeb904743_csv',\n",
       "   '713b0fd1_28fa_4fbc_93bb_dbedeb904743_csv_metadata',\n",
       "   'data_dummy_csv',\n",
       "   'data_dummy_test_fahmi_csv',\n",
       "   'data_testing_json',\n",
       "   'f77adf97_2e68_4c46_939b_b4441177e2f0_csv',\n",
       "   'f77adf97_2e68_4c46_939b_b4441177e2f0_csv_metadata',\n",
       "   'fahmi-test-2data_testing_json',\n",
       "   'fahmi-test-data_dummy_csv']},\n",
       " {'database-dummy2': []},\n",
       " {'database-dummy3': []},\n",
       " {'databases-jkt': ['data_dummy_csv',\n",
       "   'netflix_data',\n",
       "   'query_test',\n",
       "   'transaction',\n",
       "   'transaction_csv',\n",
       "   'transaction_xlsx',\n",
       "   'unsaved',\n",
       "   'web_and_social_analytics_csv']},\n",
       " {'databases-sg': ['data_dummy_csv',\n",
       "   'netflix_data',\n",
       "   'query_test',\n",
       "   'transaction',\n",
       "   'transaction_csv',\n",
       "   'transaction_xlsx',\n",
       "   'unsaved',\n",
       "   'web_and_social_analytics_csv']},\n",
       " {'netflix_db': ['netflix_data']},\n",
       " {'schedule-db-sg': ['data_dummy_csv',\n",
       "   'netflix_data',\n",
       "   'query_test',\n",
       "   'transaction',\n",
       "   'transaction_csv',\n",
       "   'transaction_xlsx',\n",
       "   'unsaved',\n",
       "   'web_and_social_analytics_csv']},\n",
       " {'test-db': ['data_dummy_csv',\n",
       "   'transaction',\n",
       "   'transaction_csv',\n",
       "   'transaction_xlsx',\n",
       "   'unsaved',\n",
       "   'web_and_social_analytics_csv']},\n",
       " {'transaction': ['transaction']}]"
      ]
     },
     "metadata": {},
     "output_type": "display_data"
    }
   ],
   "source": [
    "db_table_src_list = list(get_table_generator(glue_src, db_src_list))\n",
    "db_table_dst_list = list(get_table_generator(glue_dst, db_dst_list))\n",
    "\n",
    "display(db_table_src_list)\n",
    "display(db_table_dst_list)"
   ]
  },
  {
   "cell_type": "code",
   "execution_count": null,
   "metadata": {},
   "outputs": [],
   "source": []
  }
 ],
 "metadata": {
  "kernelspec": {
   "display_name": ".venv",
   "language": "python",
   "name": "python3"
  },
  "language_info": {
   "codemirror_mode": {
    "name": "ipython",
    "version": 3
   },
   "file_extension": ".py",
   "mimetype": "text/x-python",
   "name": "python",
   "nbconvert_exporter": "python",
   "pygments_lexer": "ipython3",
   "version": "3.13.1"
  }
 },
 "nbformat": 4,
 "nbformat_minor": 2
}
