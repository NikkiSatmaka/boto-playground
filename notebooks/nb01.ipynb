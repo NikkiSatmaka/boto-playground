{
 "cells": [
  {
   "cell_type": "code",
   "execution_count": 13,
   "metadata": {},
   "outputs": [
    {
     "data": {
      "text/plain": [
       "True"
      ]
     },
     "execution_count": 13,
     "metadata": {},
     "output_type": "execute_result"
    }
   ],
   "source": [
    "import os\n",
    "from itertools import chain\n",
    "from operator import itemgetter\n",
    "from pprint import pprint\n",
    "\n",
    "import boto3\n",
    "from dotenv import load_dotenv\n",
    "from IPython.display import display\n",
    "from mypy_boto3_sts.client import GetCallerIdentityResponseTypeDef\n",
    "\n",
    "load_dotenv()"
   ]
  },
  {
   "cell_type": "code",
   "execution_count": 2,
   "metadata": {},
   "outputs": [],
   "source": [
    "sts = boto3.client(\"sts\")\n",
    "AWS_ACCOUNT_ID = sts.get_caller_identity()[\"Account\"]\n",
    "\n",
    "session = boto3.Session()"
   ]
  },
  {
   "cell_type": "markdown",
   "metadata": {},
   "source": [
    "## S3\n"
   ]
  },
  {
   "cell_type": "code",
   "execution_count": 3,
   "metadata": {},
   "outputs": [],
   "source": [
    "SRC_BUCKET = \"bucket-dummy-data1\"\n",
    "DST_BUCKET = \"your-destination-bucket\"\n",
    "SRC_REGION = \"ap-southeast-1\"\n",
    "DST_REGION = \"ap-southeast-3\""
   ]
  },
  {
   "cell_type": "code",
   "execution_count": 4,
   "metadata": {},
   "outputs": [],
   "source": [
    "s3_src = session.client(\"s3\", region_name=SRC_REGION)\n",
    "s3_dst = session.client(\"s3\", region_name=DST_REGION)"
   ]
  },
  {
   "cell_type": "code",
   "execution_count": 5,
   "metadata": {},
   "outputs": [],
   "source": [
    "objects = s3_src.list_objects_v2(Bucket=SRC_BUCKET)\n",
    "if \"Contents\" in objects:\n",
    "    for obj in objects[\"Contents\"]:\n",
    "        if \"Key\" in obj:\n",
    "            copy_source = {\"Bucket\": SRC_BUCKET, \"Key\": obj[\"Key\"]}"
   ]
  },
  {
   "cell_type": "markdown",
   "metadata": {},
   "source": [
    "## Glue\n"
   ]
  },
  {
   "cell_type": "code",
   "execution_count": 6,
   "metadata": {},
   "outputs": [],
   "source": [
    "glue_src = session.client(\"glue\", region_name=SRC_REGION)\n",
    "glue_dst = session.client(\"glue\", region_name=DST_REGION)"
   ]
  },
  {
   "cell_type": "code",
   "execution_count": 19,
   "metadata": {},
   "outputs": [],
   "source": [
    "db_src_list = list(\n",
    "    map(itemgetter(\"Name\"), glue_src.get_databases().get(\"DatabaseList\"))\n",
    ")\n",
    "db_dst_list = list(\n",
    "    map(itemgetter(\"Name\"), glue_dst.get_databases().get(\"DatabaseList\"))\n",
    ")"
   ]
  },
  {
   "cell_type": "code",
   "execution_count": null,
   "metadata": {},
   "outputs": [],
   "source": []
  }
 ],
 "metadata": {
  "kernelspec": {
   "display_name": ".venv",
   "language": "python",
   "name": "python3"
  },
  "language_info": {
   "codemirror_mode": {
    "name": "ipython",
    "version": 3
   },
   "file_extension": ".py",
   "mimetype": "text/x-python",
   "name": "python",
   "nbconvert_exporter": "python",
   "pygments_lexer": "ipython3",
   "version": "3.13.1"
  }
 },
 "nbformat": 4,
 "nbformat_minor": 2
}
